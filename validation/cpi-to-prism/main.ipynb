{
 "cells": [
  {
   "cell_type": "code",
   "execution_count": null,
   "id": "2832048f3443223d",
   "metadata": {},
   "outputs": [],
   "source": [
    "import sys\n",
    "sys.path.append('sources')\n",
    "from cpi_to_spin.cpitospin import create_cpi_visualization, create_spin_visualization"
   ]
  },
  {
   "cell_type": "markdown",
   "id": "8d2219f1-125f-428e-ae72-bb5af44e7cdd",
   "metadata": {},
   "source": [
    "# Choose the test\n",
    "All the test available are in folder 'CPIs'"
   ]
  },
  {
   "cell_type": "code",
   "execution_count": null,
   "id": "e1cd6ff0-611f-4554-bec2-4a5ffcd06bca",
   "metadata": {},
   "outputs": [],
   "source": [
    "process_name = \"test1\" #\"\" #choice-task-init-reverse\n",
    "\n",
    "import traceback\n",
    "import os\n",
    "import json\n",
    "from cpi_to_spin.cpitospin import analyze_cpi_structure, CPIToSPINConverter\n",
    "\n",
    "def load_cpi_file(process_name:str):\n",
    "\tcpi_file_path = f'CPIs/{process_name}.cpi'\n",
    "\n",
    "\tprint(f\"Loading CPI file: {cpi_file_path}\")\n",
    "\n",
    "\ttry:\n",
    "\t\twith open(cpi_file_path, 'r') as f:\n",
    "\t\t\tcpi_dict = json.load(f)\n",
    "\n",
    "\t\tprint(\"✓ CPI file loaded successfully!\")\n",
    "\t\tprint(f\"Root region type: {cpi_dict['type']}\")\n",
    "\t\tprint(f\"Root region ID: {cpi_dict['id']}\")\n",
    "\n",
    "\t\t# Pretty print the CPI structure\n",
    "\t\tprint(\"\\nCPI Structure:\")\n",
    "\t\tprint(\"=\" * 50)\n",
    "\t\tprint(json.dumps(cpi_dict, indent=2))\n",
    "\t\treturn cpi_dict\n",
    "\n",
    "\texcept FileNotFoundError:\n",
    "\t\tprint(f\"File not found: {cpi_file_path}\")\n",
    "\t\tprint(\"Available files in CPIs directory:\")\n",
    "\t\ttry:\n",
    "\t\t\tfor f in os.listdir('CPIs'):\n",
    "\t\t\t\tif f.endswith('.cpi'):\n",
    "\t\t\t\t\tprint(f\"  - {f}\")\n",
    "\t\texcept:\n",
    "\t\t\tprint(\"  Could not list CPIs directory\")\n",
    "\texcept Exception as e:\n",
    "\t\tprint(f\"❌ Error loading CPI file: {e}\")\n",
    "\t\ttraceback.print_exc()\n",
    "\n",
    "\treturn None\n",
    "\n",
    "\n",
    "def analize_cpi(cpi_dict):\n",
    "\tprint(\"\\nCPI Structure Analysis:\")\n",
    "\tprint(\"=\" * 50)\n",
    "\tif 'cpi_dict' in locals():\n",
    "\t\tanalyze_cpi_structure(cpi_dict)\n",
    "\n",
    "\tprint(\"Converting CPI to SPIN...\")\n",
    "\tprint(\"=\" * 50)\n",
    "\n",
    "\ttry:\n",
    "\t\tconverter = CPIToSPINConverter()\n",
    "\t\tspin_model = converter.convert_cpi_to_spin(cpi_dict)\n",
    "\n",
    "\t\tprint(\"✓ Conversion successful!\")\n",
    "\t\tprint(\"\\nSPIN Model Summary:\")\n",
    "\t\tprint(\"-\" * 30)\n",
    "\t\tspin_model.print_model_summary()\n",
    "\t\treturn spin_model\n",
    "\n",
    "\texcept Exception as e:\n",
    "\t\tprint(f\"❌ Conversion failed: {e}\")\n",
    "\t\ttraceback.print_exc()\n",
    "\treturn None\n",
    "\n",
    "cpi_dict = load_cpi_file(process_name)\n",
    "if cpi_dict:\n",
    "\tspin_model = analize_cpi(cpi_dict)"
   ]
  },
  {
   "cell_type": "code",
   "execution_count": null,
   "id": "1e092e525fbb4d32",
   "metadata": {},
   "outputs": [],
   "source": [
    "cpi_viz = create_cpi_visualization(cpi_dict)\n",
    "display(cpi_viz)\n",
    "cpi_output = process_name + '_cpi'\n",
    "cpi_viz.render(cpi_output, cleanup=True)"
   ]
  },
  {
   "cell_type": "markdown",
   "id": "f5ed26b5-d5ae-4f61-91f1-9b1f20041f02",
   "metadata": {},
   "source": [
    "# FROM CPI TO SPIN"
   ]
  },
  {
   "cell_type": "markdown",
   "id": "b581cbb167050363",
   "metadata": {},
   "source": [
    "## Process Visualization\n",
    "\n",
    "The CPI dictionary can be visualized as a directed graph to better understand its structure. In this visualization:\n",
    "\n",
    "- **Task nodes** show duration and impact values (cost, time, quality)\n",
    "- **Nature nodes** display their probability values (e.g., \"p=0.7\")\n",
    "- **Sequence nodes** connect components with \"head\" and \"tail\" edges\n",
    "- **Parallel nodes** show concurrent branches with \"first\" and \"second\" edges\n",
    "- **Choice nodes** represent decision points with \"true\" and \"false\" branches\n",
    "\n",
    "Each node type is represented as a box, with edges showing the relationships between components. This hierarchical representation helps understand the process flow and decision points in the system."
   ]
  },
  {
   "cell_type": "code",
   "execution_count": null,
   "id": "73b6e669a6daa12a",
   "metadata": {},
   "outputs": [],
   "source": [
    "spin_viz = create_spin_visualization(spin_model)\n",
    "display(spin_viz)\n",
    "spin_output = process_name + '_spin'\n",
    "spin_viz.render(spin_output, cleanup=True)"
   ]
  },
  {
   "cell_type": "markdown",
   "id": "856e60bc-8310-4544-822d-6a9feb506970",
   "metadata": {},
   "source": [
    "# FROM SPIN TO PRISM"
   ]
  },
  {
   "cell_type": "code",
   "execution_count": null,
   "id": "9e4c7462785fdf8e",
   "metadata": {},
   "outputs": [],
   "source": [
    "prism_model = spin_model.generate_prism_model()\n",
    "lines = prism_model.split('\\n')\n",
    "\n",
    "output_file =  \"models/\" + process_name + '.nm'\n",
    "with open(output_file, 'w') as f:\n",
    "\tf.write(prism_model)\n",
    "\n",
    "print(\"PRISM model generated successfully!\")\n",
    "print(f\"\\nFirst 20 lines of PRISM model:\")\n",
    "print(\"-\" * 40)\n",
    "for i, line in enumerate(lines[:20]):\n",
    "\tprint(f\"{i + 1:2d}: {line}\")\n",
    "\n",
    "if len(lines) > 20:\n",
    "\tprint(f\"... ({len(lines) - 20} more lines)\")\n"
   ]
  },
  {
   "cell_type": "markdown",
   "id": "e5dd67e1-ba42-4146-8739-73cf144f26f3",
   "metadata": {},
   "source": [
    "## RUN PRISM ANALYSIS"
   ]
  },
  {
   "cell_type": "code",
   "execution_count": null,
   "id": "2414348c-8ef5-4ed3-963d-f3b47aa6db7d",
   "metadata": {},
   "outputs": [],
   "source": [
    "from prism import run_prism_analysis\n",
    "\n",
    "result = run_prism_analysis(process_name, create_mdp=True)"
   ]
  },
  {
   "cell_type": "markdown",
   "id": "1dc73186-040b-4e15-9dd5-16cbe91a1bed",
   "metadata": {},
   "source": [
    "# FROM PRISM TO MDP\n",
    "\n",
    "Since PRISM models are based on an extended form of MDPs, we now provide the compact version of the MDP generated by PRISM, which corresponds to the equivalent SPIN model. This enhances clarity and facilitates easier comparison between the two representations."
   ]
  },
  {
   "cell_type": "code",
   "execution_count": null,
   "id": "1fbde089-7f09-437b-978a-aba7b7bccdd2",
   "metadata": {},
   "outputs": [],
   "source": [
    "from prism_model_to_mdp.create_mdp import create_states_mdp\n",
    "from prism_model_to_mdp.etl import load_prism_model\n",
    "from graphviz import Source\n",
    "\n",
    "states, transitions, rewards = load_prism_model(process_name)\n",
    "\n",
    "compressed_dot = create_states_mdp(states, transitions, rewards)\n",
    "\n",
    "#Source(compressed_dot).render(filename=f\"models/{process_name}_cleaned\", format='svg', cleanup=True)\n",
    "Source(compressed_dot)"
   ]
  }
 ],
 "metadata": {
  "kernelspec": {
   "display_name": "Python 3",
   "language": "python",
   "name": "python3"
  },
  "language_info": {
   "codemirror_mode": {
    "name": "ipython",
    "version": 3
   },
   "file_extension": ".py",
   "mimetype": "text/x-python",
   "name": "python",
   "nbconvert_exporter": "python",
   "pygments_lexer": "ipython3",
   "version": "3.10.12"
  }
 },
 "nbformat": 4,
 "nbformat_minor": 5
}
