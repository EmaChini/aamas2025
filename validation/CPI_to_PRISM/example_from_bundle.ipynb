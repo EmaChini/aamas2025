{
 "cells": [
  {
   "cell_type": "code",
   "id": "b874753f83125722",
   "metadata": {},
   "source": [
    "import requests\n",
    "import sys\n",
    "sys.path.append('sources')\n",
    "headers = {\n",
    "\t\"Content-Type\": \"application/json\",\n",
    "}\n",
    "url = \"http://127.0.0.1:8001/\""
   ],
   "outputs": [],
   "execution_count": null
  },
  {
   "metadata": {},
   "cell_type": "markdown",
   "source": "## Read a bundle from the CPI dataset",
   "id": "ebd30729db57b401"
  },
  {
   "metadata": {},
   "cell_type": "code",
   "source": [
    "import random\n",
    "from experiments.etl.read import read_cpi_bundles\n",
    "\n",
    "x = 1\n",
    "y = 1\n",
    "bundles = read_cpi_bundles(x=x,y=y)\n",
    "print(\"Size: \", len(bundles))\n",
    "\n",
    "w = random.randint(0, len(bundles)-1)\n",
    "print(f\"x={x}, y={y}, w={w}\")\n",
    "bpmn = bundles[w].copy()\n",
    "metedata = bpmn.pop('metadata')\n",
    "bpmn"
   ],
   "id": "c03942e40986df64",
   "outputs": [],
   "execution_count": null
  },
  {
   "cell_type": "markdown",
   "id": "3a8a1b95802ef5f8",
   "metadata": {},
   "source": "### Check BPMN"
  },
  {
   "cell_type": "code",
   "id": "fdcbd69074970aca",
   "metadata": {},
   "source": [
    "import graphviz\n",
    "from IPython.display import display, SVG\n",
    "\n",
    "try:\n",
    "\tresp = requests.get(f'{url}create_spin', json={'cpi_dict': bpmn},  headers=headers)\n",
    "\tresp.raise_for_status()\n",
    "\tresponse = resp.json()\n",
    "\tdisplay(SVG(graphviz.Source(response['cpi_dot']).pipe(format=\"svg\")))\n",
    "\tdisplay(SVG(graphviz.Source(response['spin_dot']).pipe(format=\"svg\")))\n",
    "\tprism_model = response['prism_model']\n",
    "\n",
    "except requests.exceptions.HTTPError as e:\n",
    "\tprint(f\"HTTP Error ({resp.status_code}):\", resp.json())"
   ],
   "outputs": [],
   "execution_count": null
  },
  {
   "metadata": {},
   "cell_type": "code",
   "source": [
    "try:\n",
    "\tresp = requests.get(f'{url}run_prism_analysis', json={'cpi_dict': bpmn},  headers=headers)\n",
    "\tresp.raise_for_status()\n",
    "\tresponse = resp.json()\n",
    "\tdisplay(SVG(graphviz.Source(response['mdp_dot']).pipe(format=\"svg\")))\n",
    "\n",
    "except requests.exceptions.HTTPError as e:\n",
    "\tprint(f\"HTTP Error ({resp.status_code}):\", resp.json())"
   ],
   "id": "8c042c986bc36472",
   "outputs": [],
   "execution_count": null
  }
 ],
 "metadata": {
  "kernelspec": {
   "display_name": "Python 3 (ipykernel)",
   "language": "python",
   "name": "python3"
  },
  "language_info": {
   "codemirror_mode": {
    "name": "ipython",
    "version": 3
   },
   "file_extension": ".py",
   "mimetype": "text/x-python",
   "name": "python",
   "nbconvert_exporter": "python",
   "pygments_lexer": "ipython3",
   "version": "3.12.3"
  }
 },
 "nbformat": 4,
 "nbformat_minor": 5
}
