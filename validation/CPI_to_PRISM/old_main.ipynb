{
 "cells": [
  {
   "cell_type": "code",
   "metadata": {},
   "source": [
    "import sys\n",
    "sys.path.append('sources')"
   ],
   "outputs": [],
   "execution_count": null
  },
  {
   "cell_type": "markdown",
   "metadata": {},
   "source": [
    "# CPI to MDP Pipeline\n",
    "\n",
    "This notebook demonstrates how to convert a Control Process Interface (CPI) dictionary \n",
    "into a Markov Decision Process (MDP) format suitable for the PRISM model checker. We'll walk through:\n",
    "\n",
    "1. Loading and examining a CPI dictionary\n",
    "2. Understanding the conversion process\n",
    "3. Generating PRISM code"
   ]
  },
  {
   "cell_type": "code",
   "metadata": {},
   "source": [
    "import json\n",
    "from experiments.etl.read import read_cpi_bundles\n",
    "\n",
    "bundle = read_cpi_bundles(x=1,y=1)\n",
    "\n",
    "D = bundle[15].copy()\n",
    "T = D.pop('metadata')\n",
    "\n",
    "FILE = 'current_benchmark.cpi'\n",
    "with open(\"CPIs/\" + FILE, 'w') as f:\n",
    "\tjson.dump(D, f)\n"
   ],
   "outputs": [],
   "execution_count": null
  },
  {
   "cell_type": "markdown",
   "metadata": {},
   "source": [
    "## Process Visualization\n",
    "\n",
    "The CPI dictionary can be visualized as a directed graph to better understand its structure. In this visualization:\n",
    "\n",
    "- **Task nodes** show duration and impact values (cost, time, quality)\n",
    "- **Nature nodes** display their probability values (e.g., \"p=0.7\")\n",
    "- **Sequence nodes** connect components with \"head\" and \"tail\" edges\n",
    "- **Parallel nodes** show concurrent branches with \"first\" and \"second\" edges\n",
    "- **Choice nodes** represent decision points with \"true\" and \"false\" branches\n",
    "\n",
    "Each node type is represented as a box, with edges showing the relationships between components. This hierarchical representation helps understand the process flow and decision points in the system."
   ]
  },
  {
   "cell_type": "code",
   "metadata": {},
   "source": [
    "from cpi_to_prism_etl import cpi_to_model\n",
    "from prism import run_prism_analysis\n",
    "\n",
    "\n",
    "cpi_to_model(FILE)\n",
    "run_prism_analysis(FILE[:-4])"
   ],
   "outputs": [],
   "execution_count": null
  },
  {
   "cell_type": "code",
   "metadata": {},
   "source": [
    "from refinements import refine_bounds\n",
    "refine_bounds('test', 3, verbose=True)"
   ],
   "outputs": [],
   "execution_count": null
  },
  {
   "cell_type": "code",
   "metadata": {},
   "source": [
    "from experiments.etl.read import read_cpi_bundles\n",
    "\n",
    "bundle = read_cpi_bundles(x=3,y=4)\n",
    "import datetime\n",
    "D = bundle[15].copy()\n",
    "T = D.pop('metadata')\n",
    "\n",
    "# Write to current_benchmark.cpi\n",
    "with open('CPIs/current_benchmark.cpi', 'w') as f:\n",
    "\tjson.dump(D, f)\n",
    "\n",
    "vts = datetime.datetime.now().isoformat()\n",
    "\n",
    "initial_bounds, final_bounds, error = refine_bounds('current_benchmark', 10, verbose=True)\n",
    "\n",
    "vte = datetime.datetime.now().isoformat()\n",
    "\n",
    "print(vts, vte)"
   ],
   "outputs": [],
   "execution_count": null
  },
  {
   "cell_type": "code",
   "metadata": {},
   "source": [
    "from experiments.etl.read import read_cpi_bundles\n",
    "\n",
    "bundle = read_cpi_bundles(x=1,y=1)\n",
    "import datetime\n",
    "D = bundle[15].copy()\n",
    "T = D.pop('metadata')\n",
    "\n",
    "# Write to current_benchmark.cpi\n",
    "with open('CPIs/current_benchmark.cpi', 'w') as f:\n",
    "\tjson.dump(D, f)\n",
    "\n",
    "vts = datetime.datetime.now().isoformat()\n",
    "\n",
    "initial_bounds, final_bounds, error = refine_bounds('current_benchmark', 10, verbose=True)\n",
    "\n",
    "vte = datetime.datetime.now().isoformat()\n",
    "\n",
    "print(vts, vte)"
   ],
   "outputs": [],
   "execution_count": null
  },
  {
   "cell_type": "code",
   "metadata": {},
   "source": [
    "import datetime\n",
    "D = bundle[15].copy()\n",
    "T = D.pop('metadata')\n",
    "\n",
    "# Write to current_benchmark.cpi\n",
    "with open('CPIs/current_benchmark.cpi', 'w') as f:\n",
    "\tjson.dump(D, f)\n",
    "\n",
    "vts = datetime.datetime.now().isoformat()\n",
    "\n",
    "initial_bounds, final_bounds, error = refine_bounds('current_benchmark', 10, verbose=True)\n",
    "\n",
    "vte = datetime.datetime.now().isoformat()"
   ],
   "outputs": [],
   "execution_count": null
  },
  {
   "cell_type": "code",
   "metadata": {},
   "source": [
    "vts, vte"
   ],
   "outputs": [],
   "execution_count": null
  }
 ],
 "metadata": {
  "kernelspec": {
   "display_name": "Python 3 (ipykernel)",
   "language": "python",
   "name": "python3"
  },
  "language_info": {
   "codemirror_mode": {
    "name": "ipython",
    "version": 3
   },
   "file_extension": ".py",
   "mimetype": "text/x-python",
   "name": "python",
   "nbconvert_exporter": "python",
   "pygments_lexer": "ipython3",
   "version": "3.10.12"
  }
 },
 "nbformat": 4,
 "nbformat_minor": 4
}
